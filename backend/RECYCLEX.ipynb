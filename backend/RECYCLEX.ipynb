{
  "cells": [
    {
      "cell_type": "markdown",
      "source": [
        "# Step *1*: Import Libraries\n"
      ],
      "metadata": {
        "id": "N069s1-SmkHg"
      }
    },
    {
      "cell_type": "code",
      "source": [
        "import os\n",
        "import numpy as np\n",
        "import matplotlib.pyplot as plt\n",
        "import tensorflow as tf\n",
        "from tensorflow.keras.preprocessing.image import ImageDataGenerator\n",
        "from tensorflow.keras.applications import EfficientNetB4\n",
        "from tensorflow.keras.models import Model\n",
        "from tensorflow.keras.layers import Dense, Dropout, BatchNormalization, GlobalAveragePooling2D\n",
        "from tensorflow.keras.optimizers import Adam\n",
        "from tensorflow.keras.callbacks import ReduceLROnPlateau, EarlyStopping\n",
        "from sklearn.model_selection import train_test_split\n",
        "import cv2\n",
        "import zipfile"
      ],
      "metadata": {
        "id": "EOKVjX5Ymm7-"
      },
      "execution_count": 1,
      "outputs": []
    },
    {
      "cell_type": "markdown",
      "source": [
        "# Step 2: Unzip the Dataset\n"
      ],
      "metadata": {
        "id": "GzCPtrtXmzCL"
      }
    },
    {
      "cell_type": "code",
      "source": [
        "# Define the path to the dataset zip file\n",
        "dataset_zip_path = \"/content/Trashnet Dataset.zip\"  # Updated path\n",
        "\n",
        "# Check if the zip file exists before attempting extraction\n",
        "if os.path.exists(dataset_zip_path):\n",
        "    # Define the dataset path to where your data should be extract, relative to your working directory\n",
        "    dataset_path = \"/content/dataset-resized\"\n",
        "    # Checks if the path defined as dataset_path exist\n",
        "    if not os.path.exists(dataset_path):\n",
        "        with zipfile.ZipFile(dataset_zip_path, 'r') as zip_ref:\n",
        "            zip_ref.extractall(\"/content\") # Extracts the data if the dataset_path doesn't exist\n",
        "        print(\"Dataset extracted successfully.\")\n",
        "    else:\n",
        "        print(\"Dataset already extracted.\")\n",
        "else:\n",
        "    print(f\"Error: Zip file not found at {dataset_zip_path}\")"
      ],
      "metadata": {
        "colab": {
          "base_uri": "https://localhost:8080/"
        },
        "id": "50ZFnlZHmoyR",
        "outputId": "a440708d-402c-4d10-f75c-7a4b4e1b2618"
      },
      "execution_count": 2,
      "outputs": [
        {
          "output_type": "stream",
          "name": "stdout",
          "text": [
            "Dataset already extracted.\n"
          ]
        }
      ]
    },
    {
      "cell_type": "markdown",
      "source": [
        "# Step 3: Define Categories\n"
      ],
      "metadata": {
        "id": "jiJTakgxpQqZ"
      }
    },
    {
      "cell_type": "code",
      "source": [
        "categories = [\"cardboard\", \"glass\", \"metal\", \"paper\", \"plastic\", \"trash\"]"
      ],
      "metadata": {
        "id": "WJNxzXDLm66y"
      },
      "execution_count": 3,
      "outputs": []
    },
    {
      "cell_type": "markdown",
      "source": [
        "# Step 4 Load and Preprocess Images\n"
      ],
      "metadata": {
        "id": "tD8gqeQcpXJz"
      }
    },
    {
      "cell_type": "code",
      "source": [
        "dataset_path = \"/content/dataset-resized\"  # Updated dataset location\n",
        "X, y = [], []\n",
        "img_size = 224\n",
        "\n",
        "for category in categories:\n",
        "    path = os.path.join(dataset_path, category)\n",
        "    label = categories.index(category)\n",
        "\n",
        "    if os.path.exists(path): #Verify path exist before continuing\n",
        "        for img_name in os.listdir(path):\n",
        "            try:\n",
        "                img_path = os.path.join(path, img_name)\n",
        "                img = cv2.imread(img_path)\n",
        "                img = cv2.resize(img, (img_size, img_size))\n",
        "                img = cv2.cvtColor(img, cv2.COLOR_BGR2RGB)\n",
        "                img = tf.keras.applications.efficientnet.preprocess_input(img)\n",
        "                X.append(img)\n",
        "                y.append(label)\n",
        "            except Exception as e:\n",
        "                print(f\"Error loading image: {e}\")\n",
        "    else:\n",
        "        print(f\"Category path not found: {path}\")\n",
        "\n",
        "X = np.array(X)\n",
        "y = np.array(y)\n",
        "y = tf.keras.utils.to_categorical(y, num_classes=len(categories))"
      ],
      "metadata": {
        "id": "bwHh6uWFnIPf"
      },
      "execution_count": 4,
      "outputs": []
    },
    {
      "cell_type": "markdown",
      "source": [
        "# *Step* 5: Split Data into Training and Validation Sets\n"
      ],
      "metadata": {
        "id": "G5j7imyJpedu"
      }
    },
    {
      "cell_type": "code",
      "source": [
        "X_train, X_val, y_train, y_val = train_test_split(X, y, test_size=0.2, random_state=42, stratify=y)"
      ],
      "metadata": {
        "id": "OOHVxXHjnLQo"
      },
      "execution_count": 5,
      "outputs": []
    },
    {
      "cell_type": "markdown",
      "source": [
        "#  Step 6: Data Augmentation\n"
      ],
      "metadata": {
        "id": "bfreTJQ8qHUY"
      }
    },
    {
      "cell_type": "code",
      "source": [
        "datagen = ImageDataGenerator(\n",
        "    rotation_range=30,\n",
        "    zoom_range=0.2,\n",
        "    width_shift_range=0.2,\n",
        "    height_shift_range=0.2,\n",
        "    horizontal_flip=True,\n",
        "    vertical_flip=True,\n",
        "    fill_mode=\"nearest\",\n",
        "    brightness_range=[0.8, 1.2],\n",
        "    shear_range=0.2\n",
        ")\n",
        "\n",
        "datagen.fit(X_train)"
      ],
      "metadata": {
        "id": "OcGAN2Pvn-Tx"
      },
      "execution_count": 6,
      "outputs": []
    },
    {
      "cell_type": "markdown",
      "source": [
        "# Step 7: Build the Model\n"
      ],
      "metadata": {
        "id": "qOVIEyFhpk-4"
      }
    },
    {
      "cell_type": "code",
      "source": [
        "base_model = EfficientNetB4(weights='imagenet', include_top=False, input_shape=(img_size, img_size, 3))\n",
        "fine_tune_at = len(base_model.layers) - 30\n",
        "for layer in base_model.layers[:fine_tune_at]:\n",
        "    layer.trainable = False\n",
        "\n",
        "inputs = base_model.input\n",
        "x = base_model.output\n",
        "x = GlobalAveragePooling2D()(x)\n",
        "x1 = Dense(1024, activation='relu')(x)\n",
        "x1 = BatchNormalization()(x1)\n",
        "x1 = Dropout(0.5)(x1)\n",
        "x2 = Dense(512, activation='relu')(x1)\n",
        "x2 = BatchNormalization()(x2)\n",
        "x2 = Dropout(0.4)(x2)\n",
        "x2 = tf.keras.layers.Add()([x2, Dense(512)(x1)])\n",
        "x3 = Dense(256, activation='relu')(x2)\n",
        "x3 = BatchNormalization()(x3)\n",
        "x3 = Dropout(0.3)(x3)\n",
        "x3 = tf.keras.layers.Add()([x3, Dense(256)(x2)])\n",
        "outputs = Dense(len(categories), activation='softmax')(x3)\n",
        "\n",
        "model = Model(inputs=inputs, outputs=outputs)"
      ],
      "metadata": {
        "id": "ELdYWan_oKei"
      },
      "execution_count": 7,
      "outputs": []
    },
    {
      "cell_type": "markdown",
      "source": [
        "# Step 8: Define Learning Rate Schedule"
      ],
      "metadata": {
        "id": "iXGIdCdNppW7"
      }
    },
    {
      "cell_type": "code",
      "source": [
        "initial_learning_rate = 1e-4\n",
        "warmup_epochs = 5\n",
        "total_epochs = 100\n",
        "\n",
        "def warmup_cosine_decay_schedule(epoch):\n",
        "    if epoch < warmup_epochs:\n",
        "        lr = initial_learning_rate * (epoch + 1) / warmup_epochs # Indented this line to be inside the 'if' block\n",
        "    else:\n",
        "        lr = initial_learning_rate * (1 + tf.math.cos(\n",
        "            3.14159 * (epoch - warmup_epochs) / (total_epochs - warmup_epochs)\n",
        "        ) / 2)  # Added the missing closing parenthesis here\n",
        "    return float(lr)  # Convert the tensor to a float"
      ],
      "metadata": {
        "id": "lozMrl_qoO2m"
      },
      "execution_count": 10,
      "outputs": []
    },
    {
      "cell_type": "markdown",
      "source": [
        "# Step 9: Compile the Model"
      ],
      "metadata": {
        "id": "dgO39XnbptZ2"
      }
    },
    {
      "cell_type": "code",
      "source": [
        "# Step 9: Compile the Model\n",
        "model.compile(optimizer=Adam(learning_rate=initial_learning_rate),\n",
        "              loss='categorical_crossentropy',\n",
        "              metrics=['accuracy'])"
      ],
      "metadata": {
        "id": "YAqkftNgoUkV"
      },
      "execution_count": 13,
      "outputs": []
    },
    {
      "cell_type": "markdown",
      "source": [
        "# Step 10: Train the Model\n"
      ],
      "metadata": {
        "id": "BYHey31mqisP"
      }
    },
    {
      "cell_type": "code",
      "source": [
        "reduce_lr = ReduceLROnPlateau(monitor='val_loss', factor=0.2, patience=3, min_lr=1e-6, verbose=1)\n",
        "early_stopping = EarlyStopping(monitor='val_accuracy', patience=10, restore_best_weights=True, verbose=1)\n",
        "\n",
        "history = model.fit(datagen.flow(X_train, y_train, batch_size=16), validation_data=(X_val, y_val), epochs=total_epochs, callbacks=[lr_schedule, reduce_lr, early_stopping])"
      ],
      "metadata": {
        "colab": {
          "base_uri": "https://localhost:8080/"
        },
        "id": "YrpX-eBDoYg1",
        "outputId": "1584d33d-5ec1-4d83-8e08-db6f8460fee0"
      },
      "execution_count": 14,
      "outputs": [
        {
          "output_type": "stream",
          "name": "stderr",
          "text": [
            "/usr/local/lib/python3.11/dist-packages/keras/src/trainers/data_adapters/py_dataset_adapter.py:121: UserWarning: Your `PyDataset` class should call `super().__init__(**kwargs)` in its constructor. `**kwargs` can include `workers`, `use_multiprocessing`, `max_queue_size`. Do not pass these arguments to `fit()`, as they will be ignored.\n",
            "  self._warn_if_super_not_called()\n"
          ]
        },
        {
          "output_type": "stream",
          "name": "stdout",
          "text": [
            "Epoch 1/100\n",
            "\u001b[1m127/127\u001b[0m \u001b[32m━━━━━━━━━━━━━━━━━━━━\u001b[0m\u001b[37m\u001b[0m \u001b[1m138s\u001b[0m 632ms/step - accuracy: 0.2554 - loss: 3.9624 - val_accuracy: 0.4328 - val_loss: 1.4502 - learning_rate: 2.0000e-05\n",
            "Epoch 2/100\n",
            "\u001b[1m127/127\u001b[0m \u001b[32m━━━━━━━━━━━━━━━━━━━━\u001b[0m\u001b[37m\u001b[0m \u001b[1m31s\u001b[0m 241ms/step - accuracy: 0.5115 - loss: 2.1856 - val_accuracy: 0.6719 - val_loss: 0.8820 - learning_rate: 4.0000e-05\n",
            "Epoch 3/100\n",
            "\u001b[1m127/127\u001b[0m \u001b[32m━━━━━━━━━━━━━━━━━━━━\u001b[0m\u001b[37m\u001b[0m \u001b[1m30s\u001b[0m 237ms/step - accuracy: 0.6463 - loss: 1.5264 - val_accuracy: 0.7668 - val_loss: 0.6834 - learning_rate: 6.0000e-05\n",
            "Epoch 4/100\n",
            "\u001b[1m127/127\u001b[0m \u001b[32m━━━━━━━━━━━━━━━━━━━━\u001b[0m\u001b[37m\u001b[0m \u001b[1m31s\u001b[0m 243ms/step - accuracy: 0.7097 - loss: 1.3092 - val_accuracy: 0.7945 - val_loss: 0.6226 - learning_rate: 8.0000e-05\n",
            "Epoch 5/100\n",
            "\u001b[1m127/127\u001b[0m \u001b[32m━━━━━━━━━━━━━━━━━━━━\u001b[0m\u001b[37m\u001b[0m \u001b[1m30s\u001b[0m 237ms/step - accuracy: 0.7571 - loss: 1.0375 - val_accuracy: 0.8300 - val_loss: 0.5541 - learning_rate: 1.0000e-04\n",
            "Epoch 6/100\n",
            "\u001b[1m127/127\u001b[0m \u001b[32m━━━━━━━━━━━━━━━━━━━━\u001b[0m\u001b[37m\u001b[0m \u001b[1m31s\u001b[0m 243ms/step - accuracy: 0.7596 - loss: 0.9416 - val_accuracy: 0.8261 - val_loss: 0.5613 - learning_rate: 1.5000e-04\n",
            "Epoch 7/100\n",
            "\u001b[1m127/127\u001b[0m \u001b[32m━━━━━━━━━━━━━━━━━━━━\u001b[0m\u001b[37m\u001b[0m \u001b[1m30s\u001b[0m 236ms/step - accuracy: 0.7805 - loss: 0.9296 - val_accuracy: 0.8518 - val_loss: 0.5457 - learning_rate: 1.4997e-04\n",
            "Epoch 8/100\n",
            "\u001b[1m127/127\u001b[0m \u001b[32m━━━━━━━━━━━━━━━━━━━━\u001b[0m\u001b[37m\u001b[0m \u001b[1m31s\u001b[0m 247ms/step - accuracy: 0.7791 - loss: 0.9032 - val_accuracy: 0.8577 - val_loss: 0.4793 - learning_rate: 1.4989e-04\n",
            "Epoch 9/100\n",
            "\u001b[1m127/127\u001b[0m \u001b[32m━━━━━━━━━━━━━━━━━━━━\u001b[0m\u001b[37m\u001b[0m \u001b[1m30s\u001b[0m 236ms/step - accuracy: 0.8408 - loss: 0.5859 - val_accuracy: 0.8735 - val_loss: 0.4633 - learning_rate: 1.4975e-04\n",
            "Epoch 10/100\n",
            "\u001b[1m127/127\u001b[0m \u001b[32m━━━━━━━━━━━━━━━━━━━━\u001b[0m\u001b[37m\u001b[0m \u001b[1m31s\u001b[0m 245ms/step - accuracy: 0.8553 - loss: 0.5183 - val_accuracy: 0.8854 - val_loss: 0.4820 - learning_rate: 1.4956e-04\n",
            "Epoch 11/100\n",
            "\u001b[1m127/127\u001b[0m \u001b[32m━━━━━━━━━━━━━━━━━━━━\u001b[0m\u001b[37m\u001b[0m \u001b[1m31s\u001b[0m 246ms/step - accuracy: 0.8583 - loss: 0.5137 - val_accuracy: 0.8794 - val_loss: 0.5559 - learning_rate: 1.4932e-04\n",
            "Epoch 12/100\n",
            "\u001b[1m127/127\u001b[0m \u001b[32m━━━━━━━━━━━━━━━━━━━━\u001b[0m\u001b[37m\u001b[0m \u001b[1m32s\u001b[0m 251ms/step - accuracy: 0.8692 - loss: 0.5171 - val_accuracy: 0.8834 - val_loss: 0.4451 - learning_rate: 1.4902e-04\n",
            "Epoch 13/100\n",
            "\u001b[1m127/127\u001b[0m \u001b[32m━━━━━━━━━━━━━━━━━━━━\u001b[0m\u001b[37m\u001b[0m \u001b[1m30s\u001b[0m 238ms/step - accuracy: 0.8615 - loss: 0.4608 - val_accuracy: 0.8992 - val_loss: 0.4616 - learning_rate: 1.4867e-04\n",
            "Epoch 14/100\n",
            "\u001b[1m127/127\u001b[0m \u001b[32m━━━━━━━━━━━━━━━━━━━━\u001b[0m\u001b[37m\u001b[0m \u001b[1m31s\u001b[0m 245ms/step - accuracy: 0.8864 - loss: 0.3936 - val_accuracy: 0.8874 - val_loss: 0.4874 - learning_rate: 1.4826e-04\n",
            "Epoch 15/100\n",
            "\u001b[1m127/127\u001b[0m \u001b[32m━━━━━━━━━━━━━━━━━━━━\u001b[0m\u001b[37m\u001b[0m \u001b[1m0s\u001b[0m 227ms/step - accuracy: 0.8784 - loss: 0.4392\n",
            "Epoch 15: ReduceLROnPlateau reducing learning rate to 2.9560358962044122e-05.\n",
            "\u001b[1m127/127\u001b[0m \u001b[32m━━━━━━━━━━━━━━━━━━━━\u001b[0m\u001b[37m\u001b[0m \u001b[1m31s\u001b[0m 248ms/step - accuracy: 0.8784 - loss: 0.4392 - val_accuracy: 0.8874 - val_loss: 0.4916 - learning_rate: 1.4780e-04\n",
            "Epoch 16/100\n",
            "\u001b[1m127/127\u001b[0m \u001b[32m━━━━━━━━━━━━━━━━━━━━\u001b[0m\u001b[37m\u001b[0m \u001b[1m41s\u001b[0m 246ms/step - accuracy: 0.8986 - loss: 0.4076 - val_accuracy: 0.8874 - val_loss: 0.4880 - learning_rate: 1.4729e-04\n",
            "Epoch 17/100\n",
            "\u001b[1m127/127\u001b[0m \u001b[32m━━━━━━━━━━━━━━━━━━━━\u001b[0m\u001b[37m\u001b[0m \u001b[1m30s\u001b[0m 238ms/step - accuracy: 0.8920 - loss: 0.3887 - val_accuracy: 0.8735 - val_loss: 0.4837 - learning_rate: 1.4673e-04\n",
            "Epoch 18/100\n",
            "\u001b[1m127/127\u001b[0m \u001b[32m━━━━━━━━━━━━━━━━━━━━\u001b[0m\u001b[37m\u001b[0m \u001b[1m0s\u001b[0m 235ms/step - accuracy: 0.9206 - loss: 0.2717\n",
            "Epoch 18: ReduceLROnPlateau reducing learning rate to 2.922289713751525e-05.\n",
            "\u001b[1m127/127\u001b[0m \u001b[32m━━━━━━━━━━━━━━━━━━━━\u001b[0m\u001b[37m\u001b[0m \u001b[1m32s\u001b[0m 255ms/step - accuracy: 0.9206 - loss: 0.2720 - val_accuracy: 0.8893 - val_loss: 0.5264 - learning_rate: 1.4611e-04\n",
            "Epoch 19/100\n",
            "\u001b[1m127/127\u001b[0m \u001b[32m━━━━━━━━━━━━━━━━━━━━\u001b[0m\u001b[37m\u001b[0m \u001b[1m30s\u001b[0m 239ms/step - accuracy: 0.9060 - loss: 0.2872 - val_accuracy: 0.8794 - val_loss: 0.5333 - learning_rate: 1.4545e-04\n",
            "Epoch 20/100\n",
            "\u001b[1m127/127\u001b[0m \u001b[32m━━━━━━━━━━━━━━━━━━━━\u001b[0m\u001b[37m\u001b[0m \u001b[1m31s\u001b[0m 242ms/step - accuracy: 0.9170 - loss: 0.2870 - val_accuracy: 0.9071 - val_loss: 0.4756 - learning_rate: 1.4474e-04\n",
            "Epoch 21/100\n",
            "\u001b[1m127/127\u001b[0m \u001b[32m━━━━━━━━━━━━━━━━━━━━\u001b[0m\u001b[37m\u001b[0m \u001b[1m0s\u001b[0m 223ms/step - accuracy: 0.9190 - loss: 0.2910\n",
            "Epoch 21: ReduceLROnPlateau reducing learning rate to 2.8794739046134057e-05.\n",
            "\u001b[1m127/127\u001b[0m \u001b[32m━━━━━━━━━━━━━━━━━━━━\u001b[0m\u001b[37m\u001b[0m \u001b[1m30s\u001b[0m 236ms/step - accuracy: 0.9190 - loss: 0.2909 - val_accuracy: 0.9190 - val_loss: 0.5437 - learning_rate: 1.4397e-04\n",
            "Epoch 22/100\n",
            "\u001b[1m127/127\u001b[0m \u001b[32m━━━━━━━━━━━━━━━━━━━━\u001b[0m\u001b[37m\u001b[0m \u001b[1m31s\u001b[0m 240ms/step - accuracy: 0.9198 - loss: 0.2569 - val_accuracy: 0.9071 - val_loss: 0.5013 - learning_rate: 1.4316e-04\n",
            "Epoch 23/100\n",
            "\u001b[1m127/127\u001b[0m \u001b[32m━━━━━━━━━━━━━━━━━━━━\u001b[0m\u001b[37m\u001b[0m \u001b[1m30s\u001b[0m 236ms/step - accuracy: 0.9229 - loss: 0.2961 - val_accuracy: 0.9071 - val_loss: 0.5114 - learning_rate: 1.4230e-04\n",
            "Epoch 24/100\n",
            "\u001b[1m127/127\u001b[0m \u001b[32m━━━━━━━━━━━━━━━━━━━━\u001b[0m\u001b[37m\u001b[0m \u001b[1m0s\u001b[0m 235ms/step - accuracy: 0.9215 - loss: 0.2782\n",
            "Epoch 24: ReduceLROnPlateau reducing learning rate to 2.828009019140154e-05.\n",
            "\u001b[1m127/127\u001b[0m \u001b[32m━━━━━━━━━━━━━━━━━━━━\u001b[0m\u001b[37m\u001b[0m \u001b[1m32s\u001b[0m 255ms/step - accuracy: 0.9216 - loss: 0.2781 - val_accuracy: 0.9111 - val_loss: 0.4943 - learning_rate: 1.4140e-04\n",
            "Epoch 25/100\n",
            "\u001b[1m127/127\u001b[0m \u001b[32m━━━━━━━━━━━━━━━━━━━━\u001b[0m\u001b[37m\u001b[0m \u001b[1m31s\u001b[0m 244ms/step - accuracy: 0.9275 - loss: 0.2523 - val_accuracy: 0.9071 - val_loss: 0.5144 - learning_rate: 1.4045e-04\n",
            "Epoch 26/100\n",
            "\u001b[1m127/127\u001b[0m \u001b[32m━━━━━━━━━━━━━━━━━━━━\u001b[0m\u001b[37m\u001b[0m \u001b[1m31s\u001b[0m 246ms/step - accuracy: 0.9380 - loss: 0.2267 - val_accuracy: 0.9091 - val_loss: 0.5346 - learning_rate: 1.3946e-04\n",
            "Epoch 27/100\n",
            "\u001b[1m127/127\u001b[0m \u001b[32m━━━━━━━━━━━━━━━━━━━━\u001b[0m\u001b[37m\u001b[0m \u001b[1m0s\u001b[0m 249ms/step - accuracy: 0.9508 - loss: 0.1760\n",
            "Epoch 27: ReduceLROnPlateau reducing learning rate to 2.7684014639817178e-05.\n",
            "\u001b[1m127/127\u001b[0m \u001b[32m━━━━━━━━━━━━━━━━━━━━\u001b[0m\u001b[37m\u001b[0m \u001b[1m33s\u001b[0m 261ms/step - accuracy: 0.9507 - loss: 0.1762 - val_accuracy: 0.9091 - val_loss: 0.5527 - learning_rate: 1.3842e-04\n",
            "Epoch 28/100\n",
            "\u001b[1m127/127\u001b[0m \u001b[32m━━━━━━━━━━━━━━━━━━━━\u001b[0m\u001b[37m\u001b[0m \u001b[1m33s\u001b[0m 261ms/step - accuracy: 0.9507 - loss: 0.2071 - val_accuracy: 0.8893 - val_loss: 0.5727 - learning_rate: 1.3734e-04\n",
            "Epoch 29/100\n",
            "\u001b[1m127/127\u001b[0m \u001b[32m━━━━━━━━━━━━━━━━━━━━\u001b[0m\u001b[37m\u001b[0m \u001b[1m30s\u001b[0m 235ms/step - accuracy: 0.9369 - loss: 0.2320 - val_accuracy: 0.9111 - val_loss: 0.5265 - learning_rate: 1.3622e-04\n",
            "Epoch 30/100\n",
            "\u001b[1m127/127\u001b[0m \u001b[32m━━━━━━━━━━━━━━━━━━━━\u001b[0m\u001b[37m\u001b[0m \u001b[1m0s\u001b[0m 223ms/step - accuracy: 0.9336 - loss: 0.2206\n",
            "Epoch 30: ReduceLROnPlateau reducing learning rate to 2.7012370992451906e-05.\n",
            "\u001b[1m127/127\u001b[0m \u001b[32m━━━━━━━━━━━━━━━━━━━━\u001b[0m\u001b[37m\u001b[0m \u001b[1m31s\u001b[0m 244ms/step - accuracy: 0.9336 - loss: 0.2208 - val_accuracy: 0.8913 - val_loss: 0.5169 - learning_rate: 1.3506e-04\n",
            "Epoch 31/100\n",
            "\u001b[1m127/127\u001b[0m \u001b[32m━━━━━━━━━━━━━━━━━━━━\u001b[0m\u001b[37m\u001b[0m \u001b[1m32s\u001b[0m 252ms/step - accuracy: 0.9459 - loss: 0.1806 - val_accuracy: 0.9111 - val_loss: 0.4314 - learning_rate: 1.3386e-04\n",
            "Epoch 31: early stopping\n",
            "Restoring model weights from the end of the best epoch: 21.\n"
          ]
        }
      ]
    },
    {
      "cell_type": "markdown",
      "source": [
        "# Step 11: Evaluate the Model\n"
      ],
      "metadata": {
        "id": "SOL8F9Q7q5GQ"
      }
    },
    {
      "cell_type": "code",
      "source": [
        "test_loss, test_acc = model.evaluate(X_val, y_val)\n",
        "print(f\"Validation Accuracy: {test_acc * 100:.2f}%\")"
      ],
      "metadata": {
        "colab": {
          "base_uri": "https://localhost:8080/"
        },
        "id": "4ByvNIQQoe8X",
        "outputId": "e8058196-b956-4995-9749-f087563b42a9"
      },
      "execution_count": 15,
      "outputs": [
        {
          "output_type": "stream",
          "name": "stdout",
          "text": [
            "\u001b[1m16/16\u001b[0m \u001b[32m━━━━━━━━━━━━━━━━━━━━\u001b[0m\u001b[37m\u001b[0m \u001b[1m1s\u001b[0m 89ms/step - accuracy: 0.9239 - loss: 0.5397\n",
            "Validation Accuracy: 91.90%\n"
          ]
        }
      ]
    },
    {
      "cell_type": "markdown",
      "source": [
        "# Step 12: Save the Model\n"
      ],
      "metadata": {
        "id": "iVvXRHNwrApD"
      }
    },
    {
      "cell_type": "code",
      "source": [
        "model.save(\"/content/TrashNet_Model.h5\")\n",
        "print(\"Model saved at /content/TrashNet_Model.h5\")"
      ],
      "metadata": {
        "colab": {
          "base_uri": "https://localhost:8080/"
        },
        "id": "7bwGqcMmpB31",
        "outputId": "99e80226-f47d-474b-c61c-a17a968550fa"
      },
      "execution_count": 16,
      "outputs": [
        {
          "output_type": "stream",
          "name": "stderr",
          "text": [
            "WARNING:absl:You are saving your model as an HDF5 file via `model.save()` or `keras.saving.save_model(model)`. This file format is considered legacy. We recommend using instead the native Keras format, e.g. `model.save('my_model.keras')` or `keras.saving.save_model(model, 'my_model.keras')`. \n"
          ]
        },
        {
          "output_type": "stream",
          "name": "stdout",
          "text": [
            "Model saved at /content/TrashNet_Model.h5\n"
          ]
        }
      ]
    },
    {
      "cell_type": "markdown",
      "source": [
        "# Step 13: Plot Training Results\n"
      ],
      "metadata": {
        "id": "pWqGwCTLrE8k"
      }
    },
    {
      "cell_type": "code",
      "source": [
        "plt.figure(figsize=(12, 5))\n",
        "plt.subplot(1, 2, 1)\n",
        "plt.plot(history.history[\"accuracy\"], label=\"Train Accuracy\")\n",
        "plt.plot(history.history[\"val_accuracy\"], label=\"Validation Accuracy\")\n",
        "plt.legend()\n",
        "plt.title(\"Accuracy Over Epochs\")\n",
        "\n",
        "plt.subplot(1, 2, 2)\n",
        "plt.plot(history.history[\"loss\"], label=\"Train Loss\")\n",
        "plt.plot(history.history[\"val_loss\"], label=\"Validation Loss\")\n",
        "plt.legend()\n",
        "plt.title(\"Loss Over Epochs\")\n",
        "plt.show()"
      ],
      "metadata": {
        "colab": {
          "base_uri": "https://localhost:8080/",
          "height": 305
        },
        "id": "vHGjh6F_rJZV",
        "outputId": "db4bf077-c024-4a8a-b7d2-e300998cb590"
      },
      "execution_count": 17,
      "outputs": [
        {
          "output_type": "display_data",
          "data": {
            "text/plain": [
              "<Figure size 1200x500 with 2 Axes>"
            ],
            "image/png": "[encoded data removed]"
          },
          "metadata": {}
        }
      ]
    }
  ],
  "metadata": {
    "colab": {
      "provenance": [],
      "gpuType": "T4"
    },
    "kernelspec": {
      "display_name": "Python 3",
      "name": "python3"
    },
    "accelerator": "GPU"
  },
  "nbformat": 4,
  "nbformat_minor": 0
}